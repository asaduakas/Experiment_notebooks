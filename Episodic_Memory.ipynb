{
 "cells": [
  {
   "cell_type": "code",
   "execution_count": 1,
   "id": "e50ef609-efa4-408f-859a-db1128006a78",
   "metadata": {},
   "outputs": [
    {
     "name": "stdout",
     "output_type": "stream",
     "text": [
      "Collecting faiss-cpu\n",
      "  Downloading faiss_cpu-1.12.0-cp310-cp310-macosx_13_0_x86_64.whl (8.0 MB)\n",
      "\u001b[K     |████████████████████████████████| 8.0 MB 4.2 MB/s eta 0:00:01\n",
      "\u001b[?25hCollecting sentence-transformers\n",
      "  Downloading sentence_transformers-5.1.0-py3-none-any.whl (483 kB)\n",
      "\u001b[K     |████████████████████████████████| 483 kB 13.0 MB/s eta 0:00:01\n",
      "\u001b[?25hRequirement already satisfied: numpy<3.0,>=1.25.0 in /Users/asaduakas/ml_env/lib/python3.10/site-packages (from faiss-cpu) (1.26.4)\n",
      "Requirement already satisfied: packaging in /Users/asaduakas/ml_env/lib/python3.10/site-packages (from faiss-cpu) (24.2)\n",
      "Requirement already satisfied: scipy in /Users/asaduakas/ml_env/lib/python3.10/site-packages (from sentence-transformers) (1.15.2)\n",
      "Requirement already satisfied: Pillow in /Users/asaduakas/ml_env/lib/python3.10/site-packages (from sentence-transformers) (11.0.0)\n",
      "Requirement already satisfied: tqdm in /Users/asaduakas/ml_env/lib/python3.10/site-packages (from sentence-transformers) (4.67.1)\n",
      "Requirement already satisfied: typing_extensions>=4.5.0 in /Users/asaduakas/ml_env/lib/python3.10/site-packages (from sentence-transformers) (4.12.2)\n",
      "Collecting transformers<5.0.0,>=4.41.0\n",
      "  Downloading transformers-4.56.1-py3-none-any.whl (11.6 MB)\n",
      "\u001b[K     |████████████████████████████████| 11.6 MB 30.9 MB/s eta 0:00:01\n",
      "\u001b[?25hRequirement already satisfied: huggingface-hub>=0.20.0 in /Users/asaduakas/ml_env/lib/python3.10/site-packages (from sentence-transformers) (0.30.2)\n",
      "Requirement already satisfied: scikit-learn in /Users/asaduakas/ml_env/lib/python3.10/site-packages (from sentence-transformers) (1.6.1)\n",
      "Requirement already satisfied: torch>=1.11.0 in /Users/asaduakas/ml_env/lib/python3.10/site-packages (from sentence-transformers) (2.2.2)\n",
      "Requirement already satisfied: fsspec>=2023.5.0 in /Users/asaduakas/ml_env/lib/python3.10/site-packages (from huggingface-hub>=0.20.0->sentence-transformers) (2024.6.1)\n",
      "Requirement already satisfied: filelock in /Users/asaduakas/ml_env/lib/python3.10/site-packages (from huggingface-hub>=0.20.0->sentence-transformers) (3.13.1)\n",
      "Requirement already satisfied: requests in /Users/asaduakas/ml_env/lib/python3.10/site-packages (from huggingface-hub>=0.20.0->sentence-transformers) (2.32.3)\n",
      "Requirement already satisfied: pyyaml>=5.1 in /Users/asaduakas/ml_env/lib/python3.10/site-packages (from huggingface-hub>=0.20.0->sentence-transformers) (6.0.2)\n",
      "Requirement already satisfied: networkx in /Users/asaduakas/ml_env/lib/python3.10/site-packages (from torch>=1.11.0->sentence-transformers) (3.3)\n",
      "Requirement already satisfied: sympy in /Users/asaduakas/ml_env/lib/python3.10/site-packages (from torch>=1.11.0->sentence-transformers) (1.13.1)\n",
      "Requirement already satisfied: jinja2 in /Users/asaduakas/ml_env/lib/python3.10/site-packages (from torch>=1.11.0->sentence-transformers) (3.1.4)\n",
      "Collecting tokenizers<=0.23.0,>=0.22.0\n",
      "  Downloading tokenizers-0.22.0-cp39-abi3-macosx_10_12_x86_64.whl (3.1 MB)\n",
      "\u001b[K     |████████████████████████████████| 3.1 MB 33.2 MB/s eta 0:00:01\n",
      "\u001b[?25hRequirement already satisfied: safetensors>=0.4.3 in /Users/asaduakas/ml_env/lib/python3.10/site-packages (from transformers<5.0.0,>=4.41.0->sentence-transformers) (0.5.3)\n",
      "Collecting regex!=2019.12.17\n",
      "  Downloading regex-2025.9.1-cp310-cp310-macosx_10_9_x86_64.whl (288 kB)\n",
      "\u001b[K     |████████████████████████████████| 288 kB 22.5 MB/s eta 0:00:01\n",
      "\u001b[?25hCollecting huggingface-hub>=0.20.0\n",
      "  Downloading huggingface_hub-0.35.0-py3-none-any.whl (563 kB)\n",
      "\u001b[K     |████████████████████████████████| 563 kB 51.6 MB/s eta 0:00:01\n",
      "\u001b[?25hCollecting hf-xet<2.0.0,>=1.1.3\n",
      "  Downloading hf_xet-1.1.10-cp37-abi3-macosx_10_12_x86_64.whl (2.8 MB)\n",
      "\u001b[K     |████████████████████████████████| 2.8 MB 16.0 MB/s eta 0:00:01\n",
      "\u001b[?25hRequirement already satisfied: MarkupSafe>=2.0 in /Users/asaduakas/ml_env/lib/python3.10/site-packages (from jinja2->torch>=1.11.0->sentence-transformers) (2.1.5)\n",
      "Requirement already satisfied: certifi>=2017.4.17 in /Users/asaduakas/ml_env/lib/python3.10/site-packages (from requests->huggingface-hub>=0.20.0->sentence-transformers) (2025.1.31)\n",
      "Requirement already satisfied: charset-normalizer<4,>=2 in /Users/asaduakas/ml_env/lib/python3.10/site-packages (from requests->huggingface-hub>=0.20.0->sentence-transformers) (3.4.1)\n",
      "Requirement already satisfied: idna<4,>=2.5 in /Users/asaduakas/ml_env/lib/python3.10/site-packages (from requests->huggingface-hub>=0.20.0->sentence-transformers) (3.10)\n",
      "Requirement already satisfied: urllib3<3,>=1.21.1 in /Users/asaduakas/ml_env/lib/python3.10/site-packages (from requests->huggingface-hub>=0.20.0->sentence-transformers) (2.3.0)\n",
      "Requirement already satisfied: threadpoolctl>=3.1.0 in /Users/asaduakas/ml_env/lib/python3.10/site-packages (from scikit-learn->sentence-transformers) (3.6.0)\n",
      "Requirement already satisfied: joblib>=1.2.0 in /Users/asaduakas/ml_env/lib/python3.10/site-packages (from scikit-learn->sentence-transformers) (1.4.2)\n",
      "Requirement already satisfied: mpmath<1.4,>=1.1.0 in /Users/asaduakas/ml_env/lib/python3.10/site-packages (from sympy->torch>=1.11.0->sentence-transformers) (1.3.0)\n",
      "Installing collected packages: hf-xet, huggingface-hub, tokenizers, regex, transformers, sentence-transformers, faiss-cpu\n",
      "  Attempting uninstall: huggingface-hub\n",
      "    Found existing installation: huggingface-hub 0.30.2\n",
      "    Uninstalling huggingface-hub-0.30.2:\n",
      "      Successfully uninstalled huggingface-hub-0.30.2\n",
      "Successfully installed faiss-cpu-1.12.0 hf-xet-1.1.10 huggingface-hub-0.35.0 regex-2025.9.1 sentence-transformers-5.1.0 tokenizers-0.22.0 transformers-4.56.1\n"
     ]
    }
   ],
   "source": [
    "!pip install faiss-cpu sentence-transformers"
   ]
  },
  {
   "cell_type": "code",
   "execution_count": 1,
   "id": "4c148d27-2713-4a99-839c-147a2f162785",
   "metadata": {},
   "outputs": [],
   "source": [
    "from sentence_transformers import SentenceTransformer\n",
    "import faiss\n",
    "import numpy as np\n",
    "from datetime import datetime"
   ]
  },
  {
   "cell_type": "code",
   "execution_count": 11,
   "id": "50bf7c12-64ed-4468-905b-5ed8a22047e6",
   "metadata": {},
   "outputs": [],
   "source": [
    "model = SentenceTransformer(\"all-MiniLM-L6-v2\")\n",
    "\n",
    "memory_texts = []\n",
    "metadata_list = []\n",
    "\n",
    "d = 384\n",
    "index = faiss.IndexFlatL2(d)"
   ]
  },
  {
   "cell_type": "code",
   "execution_count": 10,
   "id": "089eac3b-6c06-43bb-89d3-6586d99da2a0",
   "metadata": {},
   "outputs": [],
   "source": [
    "def add_turn(text, players=[], npcs=[], tags=[], scene_id=None):\n",
    "    embedding = model.encode([text], convert_to_numpy=True)\n",
    "    index.add(embedding)\n",
    "    memory_texts.append(text)\n",
    "    metadata = {\n",
    "        \"text\": text,\n",
    "        \"timestamp\": datetime.utcnow().isoformat(),\n",
    "        \"players\": players,\n",
    "        \"npcs\": npcs,\n",
    "        \"tags\": tags,\n",
    "        \"scene_id\": scene_id\n",
    "    }\n",
    "    metadata_list.append(metadata)"
   ]
  },
  {
   "cell_type": "code",
   "execution_count": 7,
   "id": "09a2ea7a-9828-48d2-9e2b-749ca4ea4110",
   "metadata": {},
   "outputs": [],
   "source": [
    "def query_memory(query_text, top_k=3):\n",
    "    query_embedding = model.encode([query_text], convert_to_numpy=True)\n",
    "    D, I = index.search(query_embedding, top_k)\n",
    "\n",
    "    results = []\n",
    "    for rank, idx in enumerate(I[0]):\n",
    "        result = {\n",
    "            \"text\": memory_texts[idx],\n",
    "            \"distance\": float(D[0][rank]),\n",
    "            \"metadata\": metadata_list[idx]\n",
    "        }\n",
    "        results.append(result)\n",
    "    return results\n"
   ]
  },
  {
   "cell_type": "code",
   "execution_count": 12,
   "id": "4065e9e6-065b-4e91-9219-4793881da467",
   "metadata": {},
   "outputs": [],
   "source": [
    "add_turn(\"Player1 opened the treasure chest\", \n",
    "         players=[\"Player1\"], \n",
    "         npcs=[], \n",
    "         tags=[\"exploration\"], \n",
    "         scene_id=1)\n",
    "add_turn(\"The party killed the dragon\",\n",
    "         players=[\"Player1\",\"Player2\",\"Player3\"],\n",
    "         npcs=[\"Dragon\"],\n",
    "         tags=[\"combat\"],\n",
    "         scene_id=2)\n",
    "add_turn(\"Wizard asked to kill the bandits.\",\n",
    "         players=[\"Player1\",\"Player2\",\"Player3\"],\n",
    "         npcs=[\"Wizard\"],\n",
    "         tags=[\"quest\"],\n",
    "         scene_id=3)\n",
    "add_turn(\"Bandits attacked the village\",\n",
    "         players=[],\n",
    "         npcs=[\"Bandits\"],\n",
    "         tags=[\"dialogue\"],\n",
    "         scene_id=4)\n",
    "add_turn(\"Player2 stole the key.\",\n",
    "         players=[\"Player2\"],\n",
    "         npcs=[\"Guard\"],\n",
    "         tags=[\"exploration\"],\n",
    "         scene_id=5)"
   ]
  },
  {
   "cell_type": "code",
   "execution_count": 13,
   "id": "5ea4c863-bcae-4f91-90ad-60d47d17f2b5",
   "metadata": {},
   "outputs": [
    {
     "name": "stdout",
     "output_type": "stream",
     "text": [
      "Match: Player2 stole the key. | Distance=0.50 | Metadata={'text': 'Player2 stole the key.', 'timestamp': '2025-09-18T17:06:03.946574', 'players': ['Player2'], 'npcs': ['Guard'], 'tags': ['exploration'], 'scene_id': 5}\n",
      "Match: Player1 opened the treasure chest | Distance=1.22 | Metadata={'text': 'Player1 opened the treasure chest', 'timestamp': '2025-09-18T17:06:03.891968', 'players': ['Player1'], 'npcs': [], 'tags': ['exploration'], 'scene_id': 1}\n"
     ]
    }
   ],
   "source": [
    "query_results = query_memory(\"Who stole the key?\", top_k=2)\n",
    "\n",
    "for r in query_results:\n",
    "    print(f\"Match: {r['text']} | Distance={r['distance']:.2f} | Metadata={r['metadata']}\")\n"
   ]
  }
 ],
 "metadata": {
  "kernelspec": {
   "display_name": "Python (ml_env)",
   "language": "python",
   "name": "ml_env"
  },
  "language_info": {
   "codemirror_mode": {
    "name": "ipython",
    "version": 3
   },
   "file_extension": ".py",
   "mimetype": "text/x-python",
   "name": "python",
   "nbconvert_exporter": "python",
   "pygments_lexer": "ipython3",
   "version": "3.10.2"
  }
 },
 "nbformat": 4,
 "nbformat_minor": 5
}
