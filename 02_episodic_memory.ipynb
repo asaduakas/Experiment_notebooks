{
 "cells": [
  {
   "cell_type": "code",
   "execution_count": null,
   "id": "e50ef609-efa4-408f-859a-db1128006a78",
   "metadata": {},
   "outputs": [],
   "source": [
    "!pip install faiss-cpu sentence-transformers"
   ]
  },
  {
   "cell_type": "code",
   "execution_count": 1,
   "id": "4c148d27-2713-4a99-839c-147a2f162785",
   "metadata": {},
   "outputs": [],
   "source": [
    "from sentence_transformers import SentenceTransformer\n",
    "import faiss\n",
    "import numpy as np\n",
    "from datetime import datetime"
   ]
  },
  {
   "cell_type": "code",
   "execution_count": 2,
   "id": "50bf7c12-64ed-4468-905b-5ed8a22047e6",
   "metadata": {},
   "outputs": [],
   "source": [
    "model = SentenceTransformer(\"all-MiniLM-L6-v2\")\n",
    "\n",
    "memory_texts = []\n",
    "metadata_list = []\n",
    "\n",
    "d = 384\n",
    "index = faiss.IndexFlatL2(d)"
   ]
  },
  {
   "cell_type": "code",
   "execution_count": 3,
   "id": "089eac3b-6c06-43bb-89d3-6586d99da2a0",
   "metadata": {},
   "outputs": [],
   "source": [
    "def add_turn(text, players=[], npcs=[], tags=[], scene_id=None):\n",
    "    embedding = model.encode([text], convert_to_numpy=True)\n",
    "    index.add(embedding)\n",
    "    memory_texts.append(text)\n",
    "    metadata = {\n",
    "        \"text\": text,\n",
    "        \"timestamp\": datetime.utcnow().isoformat(),\n",
    "        \"players\": players,\n",
    "        \"npcs\": npcs,\n",
    "        \"tags\": tags,\n",
    "        \"scene_id\": scene_id\n",
    "    }\n",
    "    metadata_list.append(metadata)"
   ]
  },
  {
   "cell_type": "code",
   "execution_count": 4,
   "id": "09a2ea7a-9828-48d2-9e2b-749ca4ea4110",
   "metadata": {},
   "outputs": [],
   "source": [
    "def query_memory(query_text, top_k=3):\n",
    "    query_embedding = model.encode([query_text], convert_to_numpy=True)\n",
    "    D, I = index.search(query_embedding, top_k)\n",
    "\n",
    "    results = []\n",
    "    for rank, idx in enumerate(I[0]):\n",
    "        result = {\n",
    "            \"text\": memory_texts[idx],\n",
    "            \"distance\": float(D[0][rank]),\n",
    "            \"metadata\": metadata_list[idx]\n",
    "        }\n",
    "        results.append(result)\n",
    "    return results\n"
   ]
  },
  {
   "cell_type": "code",
   "execution_count": 5,
   "id": "4065e9e6-065b-4e91-9219-4793881da467",
   "metadata": {},
   "outputs": [
    {
     "name": "stderr",
     "output_type": "stream",
     "text": [
      "/tmp/ipykernel_979/4146879461.py:7: DeprecationWarning: datetime.datetime.utcnow() is deprecated and scheduled for removal in a future version. Use timezone-aware objects to represent datetimes in UTC: datetime.datetime.now(datetime.UTC).\n",
      "  \"timestamp\": datetime.utcnow().isoformat(),\n"
     ]
    }
   ],
   "source": [
    "add_turn(\"Player1 opened the treasure chest\", \n",
    "         players=[\"Player1\"], \n",
    "         npcs=[], \n",
    "         tags=[\"exploration\"], \n",
    "         scene_id=1)\n",
    "add_turn(\"The party killed the dragon\",\n",
    "         players=[\"Player1\",\"Player2\",\"Player3\"],\n",
    "         npcs=[\"Dragon\"],\n",
    "         tags=[\"combat\"],\n",
    "         scene_id=2)\n",
    "add_turn(\"Wizard asked to kill the bandits.\",\n",
    "         players=[\"Player1\",\"Player2\",\"Player3\"],\n",
    "         npcs=[\"Wizard\"],\n",
    "         tags=[\"quest\"],\n",
    "         scene_id=3)\n",
    "add_turn(\"Bandits attacked the village\",\n",
    "         players=[],\n",
    "         npcs=[\"Bandits\"],\n",
    "         tags=[\"dialogue\"],\n",
    "         scene_id=4)\n",
    "add_turn(\"Player2 stole the key.\",\n",
    "         players=[\"Player2\"],\n",
    "         npcs=[\"Guard\"],\n",
    "         tags=[\"exploration\"],\n",
    "         scene_id=5)"
   ]
  },
  {
   "cell_type": "code",
   "execution_count": 6,
   "id": "5ea4c863-bcae-4f91-90ad-60d47d17f2b5",
   "metadata": {},
   "outputs": [
    {
     "name": "stdout",
     "output_type": "stream",
     "text": [
      "Match: Player2 stole the key. | Distance=0.50 | Metadata={'text': 'Player2 stole the key.', 'timestamp': '2025-09-20T15:24:01.106158', 'players': ['Player2'], 'npcs': ['Guard'], 'tags': ['exploration'], 'scene_id': 5}\n",
      "Match: Player1 opened the treasure chest | Distance=1.22 | Metadata={'text': 'Player1 opened the treasure chest', 'timestamp': '2025-09-20T15:24:01.093444', 'players': ['Player1'], 'npcs': [], 'tags': ['exploration'], 'scene_id': 1}\n"
     ]
    }
   ],
   "source": [
    "query_results = query_memory(\"Who stole the key?\", top_k=2)\n",
    "\n",
    "for r in query_results:\n",
    "    print(f\"Match: {r['text']} | Distance={r['distance']:.2f} | Metadata={r['metadata']}\")\n"
   ]
  },
  {
   "cell_type": "code",
   "execution_count": 14,
   "id": "bceba3d7-8c0e-48f8-986b-e61dd91521cc",
   "metadata": {},
   "outputs": [],
   "source": [
    "def build_dm_prompt(player_action, retrieved_memories, world_state):\n",
    "    memory_texts = \"\\n\".join([m[\"text\"] for m in retrieved_memories])\n",
    "    world_facts = \"\\n\".join([f\"{k}: {v}\" for k, v in world_state.items()])\n",
    "    return f\"\"\"\n",
    "You are a Dungeon Master running a fantasy campaign.\n",
    "You must be consistent with past events and the current world state.\n",
    "Respond to player's action like a Dungen Master would.\n",
    "Tell them the consequences of their actions and make it like you are reading from fantasy book.\n",
    "\n",
    "--- World Facts ---\n",
    "{world_facts}\n",
    "\n",
    "--- Relevant Past Memories ---\n",
    "{memory_texts}\n",
    "\n",
    "--- Player Action ---\n",
    "{player_action}\n",
    "\n",
    "--- Your Task ---\n",
    "1. Narrate what happens next in a dramatic but concise way.\n",
    "2. Roleplay any NPCs if they are involved.\n",
    "3. Do NOT contradict the memories or world facts.\n",
    "4. Keep tone consistent with a fantasy Dungeon Master.\n",
    "\"\"\""
   ]
  },
  {
   "cell_type": "code",
   "execution_count": 19,
   "id": "adfd994b-5f24-4768-bbf2-e7891656395f",
   "metadata": {},
   "outputs": [],
   "source": [
    "world_state = {\n",
    "    \"location\": \"Dark Cave\",\n",
    "    \"npc\": \"\",\n",
    "    \"quest\": \"Retrieve the treasure\"\n",
    "}"
   ]
  },
  {
   "cell_type": "code",
   "execution_count": 22,
   "id": "8e164b9b-72ea-4aad-84b1-b73394341bdf",
   "metadata": {},
   "outputs": [],
   "source": [
    "player_action = \"I look inside the treasure chest to see what's in there!\"\n",
    "retrieved = query_memory(player_action, top_k=3)\n",
    "prompt = build_dm_prompt(player_action, retrieved, world_state)"
   ]
  },
  {
   "cell_type": "code",
   "execution_count": 10,
   "id": "3874543b-f052-4cc1-90ee-069390be29a1",
   "metadata": {},
   "outputs": [
    {
     "data": {
      "application/vnd.jupyter.widget-view+json": {
       "model_id": "6ff100f4258340e7ae7c50f42f870cac",
       "version_major": 2,
       "version_minor": 0
      },
      "text/plain": [
       "Fetching 14 files:   0%|          | 0/14 [00:00<?, ?it/s]"
      ]
     },
     "metadata": {},
     "output_type": "display_data"
    },
    {
     "name": "stdout",
     "output_type": "stream",
     "text": [
      "Model cached at: /home/ace/.cache/huggingface/hub/models--mistralai--Mistral-7B-v0.1/snapshots/27d67f1b5f57dc0953326b2601d68371d40ea8da\n"
     ]
    }
   ],
   "source": [
    "from transformers import pipeline\n",
    "from huggingface_hub import snapshot_download\n",
    "\n",
    "model_name = \"mistralai/Mistral-7B-v0.1\"\n",
    "\n",
    "cache_dir = snapshot_download(\n",
    "    repo_id=model_name,\n",
    "    use_auth_token=True\n",
    ")\n",
    "\n",
    "print(f\"Model cached at: {cache_dir}\")"
   ]
  },
  {
   "cell_type": "code",
   "execution_count": 23,
   "id": "24abe250-6170-46e6-8689-84404b8dfa06",
   "metadata": {},
   "outputs": [
    {
     "name": "stderr",
     "output_type": "stream",
     "text": [
      "/home/ace/envs/dnd/lib/python3.12/site-packages/accelerate/utils/modeling.py:1582: UserWarning: Current model requires 128 bytes of buffer for offloaded layers, which seems does not fit any GPU's remaining memory. If you are experiencing a OOM later, please consider using offload_buffers=True.\n",
      "  warnings.warn(\n"
     ]
    },
    {
     "data": {
      "application/vnd.jupyter.widget-view+json": {
       "model_id": "2b1755b4710a4339a38d24fc12e96dee",
       "version_major": 2,
       "version_minor": 0
      },
      "text/plain": [
       "Loading checkpoint shards:   0%|          | 0/2 [00:00<?, ?it/s]"
      ]
     },
     "metadata": {},
     "output_type": "display_data"
    },
    {
     "name": "stderr",
     "output_type": "stream",
     "text": [
      "Some parameters are on the meta device because they were offloaded to the cpu and disk.\n",
      "Device set to use cpu\n",
      "Setting `pad_token_id` to `eos_token_id`:2 for open-end generation.\n"
     ]
    },
    {
     "name": "stdout",
     "output_type": "stream",
     "text": [
      "\n",
      "You are a Dungeon Master running a fantasy campaign.\n",
      "You must be consistent with past events and the current world state.\n",
      "Respond to player's action like a Dungen Master would.\n",
      "Tell them the consequences of their actions and make it like you are reading from fantasy book.\n",
      "\n",
      "--- World Facts ---\n",
      "location: Dark Cave\n",
      "npc: \n",
      "quest: Retrieve the treasure\n",
      "\n",
      "--- Relevant Past Memories ---\n",
      "Player1 opened the treasure chest\n",
      "Player2 stole the key.\n",
      "Wizard asked to kill the bandits.\n",
      "\n",
      "--- Player Action ---\n",
      "I look inside the treasure chest to see what's in there!\n",
      "\n",
      "--- Your Task ---\n",
      "1. Narrate what happens next in a dramatic but concise way.\n",
      "2. Roleplay any NPCs if they are involved.\n",
      "3. Do NOT contradict the memories or world facts.\n",
      "4. Keep tone consistent with a fantasy Dungeon Master.\n",
      "\n",
      "--- Output ---\n",
      "You open the chest to reveal a pile of coins and a key!\n",
      "\"Hey, that's my key!\" Player2 shouts.\n",
      "\"Hey, I'm the wizard! Kill the bandits!\" the wizard replies.\n",
      "\n",
      "--- Answer Key ---\n",
      "1. I open the chest to reveal a pile of coins and a key!\n",
      "2.\n",
      "3.\n",
      "4.\n",
      "5.\n",
      "\n",
      "--- Answer ---\n",
      "1. I\n"
     ]
    }
   ],
   "source": [
    "pipe = pipeline(\"text-generation\",model=cache_dir, device_map=\"auto\")\n",
    "outputs = pipe(prompt, max_new_tokens=100, do_sample=True, temperature=0.7)\n",
    "print(outputs[0][\"generated_text\"])"
   ]
  },
  {
   "cell_type": "code",
   "execution_count": null,
   "id": "131d77ba-f5fd-4c31-8d4d-31699944c29f",
   "metadata": {
    "editable": true,
    "slideshow": {
     "slide_type": ""
    },
    "tags": []
   },
   "outputs": [],
   "source": []
  }
 ],
 "metadata": {
  "kernelspec": {
   "display_name": "Python (dnd)",
   "language": "python",
   "name": "dnd"
  },
  "language_info": {
   "codemirror_mode": {
    "name": "ipython",
    "version": 3
   },
   "file_extension": ".py",
   "mimetype": "text/x-python",
   "name": "python",
   "nbconvert_exporter": "python",
   "pygments_lexer": "ipython3",
   "version": "3.12.3"
  }
 },
 "nbformat": 4,
 "nbformat_minor": 5
}
